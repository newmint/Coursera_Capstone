{
 "cells": [
  {
   "cell_type": "markdown",
   "metadata": {},
   "source": [
    "<h1>Introduction/Business Problem</h1>"
   ]
  },
  {
   "cell_type": "markdown",
   "metadata": {},
   "source": [
    " "
   ]
  },
  {
   "cell_type": "markdown",
   "metadata": {},
   "source": [
    "The Idea to use Foursquare location is ***\"Offer the Living Place from request Option\"***"
   ]
  },
  {
   "cell_type": "markdown",
   "metadata": {},
   "source": []
  },
  {
   "cell_type": "markdown",
   "metadata": {},
   "source": [
    "When the person have a enough income, the next big thing they might be buy is \n",
    "\n",
    "the house. To select the house the top importance criteria to decide is the ***location*** of it.\n",
    "\n"
   ]
  },
  {
   "cell_type": "markdown",
   "metadata": {},
   "source": []
  },
  {
   "cell_type": "markdown",
   "metadata": {},
   "source": [
    "The House location may fullfill with the following question such as\n",
    "\n",
    "Is it easy to transit?\n",
    "\n",
    "Is it near Department store?\n",
    "\n",
    "Is it near Fitness Center?"
   ]
  },
  {
   "cell_type": "markdown",
   "metadata": {},
   "source": []
  },
  {
   "cell_type": "markdown",
   "metadata": {},
   "source": [
    "I often got the question like \n",
    "\"Which condo around [some area] should he/she buy?, if he/she need it near [some option]?\"\n",
    "from my friend \n",
    "\n",
    "and the answer of mine is ***my opinion without exact data support only data from my remembers***.\n",
    "\n",
    "so the answer often mismatch which the option from the question. "
   ]
  },
  {
   "cell_type": "markdown",
   "metadata": {},
   "source": []
  },
  {
   "cell_type": "markdown",
   "metadata": {},
   "source": [
    "After I learn about the Foursquare location, I have an idea to find more accurate answer \n",
    "\n",
    "for those question with data support to help my friend to find the right condo."
   ]
  },
  {
   "cell_type": "markdown",
   "metadata": {},
   "source": []
  },
  {
   "cell_type": "markdown",
   "metadata": {},
   "source": [
    "Since I am Thai who living in Bangkok so the location which I would like to do in the assignment \n",
    "is ***\"bangkok, Thailand\"***.\n"
   ]
  },
  {
   "cell_type": "markdown",
   "metadata": {},
   "source": []
  }
 ],
 "metadata": {
  "kernelspec": {
   "display_name": "Python 3",
   "language": "python",
   "name": "python3"
  },
  "language_info": {
   "codemirror_mode": {
    "name": "ipython",
    "version": 3
   },
   "file_extension": ".py",
   "mimetype": "text/x-python",
   "name": "python",
   "nbconvert_exporter": "python",
   "pygments_lexer": "ipython3",
   "version": "3.6.5"
  }
 },
 "nbformat": 4,
 "nbformat_minor": 2
}
