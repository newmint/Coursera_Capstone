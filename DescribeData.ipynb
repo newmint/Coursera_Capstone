{
 "cells": [
  {
   "cell_type": "markdown",
   "metadata": {},
   "source": [
    "<h1>A description of the data and how it will be used to solve the problem</h1>"
   ]
  },
  {
   "cell_type": "markdown",
   "metadata": {},
   "source": [
    "At First, I will define the requirement from user \n",
    "\n",
    "1. the neighborhood and the radius from that neighborhood location\n",
    "2. the main criteria venue category list (this category must exist in the radius from condo)\n",
    "3. the extra criteria venue category list (this is an optional, if exist got high rate offer)\n",
    "4. the radius of criteria from condo location\n",
    "\n",
    "\n",
    "Then, I will using Foursquare API to search the condo from neighborhood location.\n",
    "\n",
    "After that I will explore the venues for each condo around the neighborhood location.\n",
    "\n",
    "Next, analyze the condo to match the criteria\n",
    "\n",
    "Finally, summery the suggestion/offer the condo that match with requirement."
   ]
  },
  {
   "cell_type": "markdown",
   "metadata": {},
   "source": [
    " "
   ]
  },
  {
   "cell_type": "markdown",
   "metadata": {},
   "source": [
    "<h2>Example</h2>"
   ]
  },
  {
   "cell_type": "markdown",
   "metadata": {},
   "source": [
    "I will set up the Question as"
   ]
  },
  {
   "cell_type": "markdown",
   "metadata": {},
   "source": [
    "\"User like to living around ***Dusit District*** and the condo must near ***Department Store*** and ***BTS(sky train)*** or ***MRT(subway)***\n",
    "\n",
    "and if it posible it may near ***Fitness Center***\""
   ]
  },
  {
   "cell_type": "markdown",
   "metadata": {},
   "source": [
    "<h4> Define the user requirement</h4>"
   ]
  },
  {
   "cell_type": "markdown",
   "metadata": {},
   "source": [
    "From the above Question I Can define the user Requirement like"
   ]
  },
  {
   "cell_type": "markdown",
   "metadata": {},
   "source": [
    "1. neighborhood is ***Dusit District*** and the radius is ***10km*** \n",
    "2. main criteria venue list is [ ***Department Store***, ***Train Station*** or ***Metro Sations*** ]\n",
    "3. extra criteria venue list is [ ***Fitness Center*** ]\n",
    "4. setup the condo radius to ***500m*** to make it easy to walk"
   ]
  },
  {
   "cell_type": "markdown",
   "metadata": {},
   "source": [
    "<h4>Process</h4>"
   ]
  },
  {
   "cell_type": "markdown",
   "metadata": {},
   "source": [
    "User Foursquare API to Find condo around the neighborhood\n",
    "\n",
    "then, find venue around each condo\n",
    "\n",
    "next, analyze which condo match with the criteria\n"
   ]
  },
  {
   "cell_type": "markdown",
   "metadata": {},
   "source": [
    "<h4>Report</h4>"
   ]
  },
  {
   "cell_type": "markdown",
   "metadata": {},
   "source": [
    "Summarize, the analyze to make the report which condo should be in candidate list."
   ]
  },
  {
   "cell_type": "code",
   "execution_count": null,
   "metadata": {},
   "outputs": [],
   "source": []
  }
 ],
 "metadata": {
  "kernelspec": {
   "display_name": "Python 3",
   "language": "python",
   "name": "python3"
  },
  "language_info": {
   "codemirror_mode": {
    "name": "ipython",
    "version": 3
   },
   "file_extension": ".py",
   "mimetype": "text/x-python",
   "name": "python",
   "nbconvert_exporter": "python",
   "pygments_lexer": "ipython3",
   "version": "3.6.5"
  }
 },
 "nbformat": 4,
 "nbformat_minor": 2
}
