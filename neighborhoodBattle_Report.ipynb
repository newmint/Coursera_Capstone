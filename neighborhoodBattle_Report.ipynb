{
 "cells": [
  {
   "cell_type": "markdown",
   "metadata": {},
   "source": [
    "<h2>Introduction</h2>"
   ]
  },
  {
   "cell_type": "markdown",
   "metadata": {},
   "source": [
    "When the person have a enough income, the next big thing they might be buy is \n",
    "\n",
    "the house. To select the house the top importance criteria to decide is the ***location*** of it."
   ]
  },
  {
   "cell_type": "code",
   "execution_count": null,
   "metadata": {},
   "outputs": [],
   "source": []
  },
  {
   "cell_type": "markdown",
   "metadata": {},
   "source": [
    "The House location may fullfill with the following question such as\n",
    "\n",
    "Is it easy to transit?\n",
    "\n",
    "Is it near Department store?\n",
    "\n",
    "Is it near Fitness Center?"
   ]
  },
  {
   "cell_type": "code",
   "execution_count": null,
   "metadata": {},
   "outputs": [],
   "source": []
  },
  {
   "cell_type": "markdown",
   "metadata": {},
   "source": [
    "I often got the question like \n",
    "\"Which condo around [some area] should he/she buy?, if he/she need it near [some option]?\"\n",
    "from my friend \n",
    "\n",
    "and the answer of mine is ***my opinion without exact data support only data from my remembers***.\n",
    "\n",
    "so the answer often mismatch which the option from the question. "
   ]
  },
  {
   "cell_type": "code",
   "execution_count": null,
   "metadata": {},
   "outputs": [],
   "source": []
  },
  {
   "cell_type": "markdown",
   "metadata": {},
   "source": [
    "After I learn about the Foursquare location, I have an idea to find more accurate answer \n",
    "\n",
    "for those question with data support to help my friend to find the right condo."
   ]
  },
  {
   "cell_type": "code",
   "execution_count": null,
   "metadata": {},
   "outputs": [],
   "source": []
  },
  {
   "cell_type": "markdown",
   "metadata": {},
   "source": [
    "The Idea to use Foursquare location is ***\"Offer the Condo from request Option\"***\n",
    "\n",
    "Target Audience is \"***The Person who want to Buy Condo***\"\n",
    "\n",
    "Since I am Thai who living in Bangkok so the location which I would like to do in the assignment \n",
    "is ***\"bangkok, Thailand\"***.\n"
   ]
  },
  {
   "cell_type": "code",
   "execution_count": null,
   "metadata": {},
   "outputs": [],
   "source": []
  },
  {
   "cell_type": "markdown",
   "metadata": {},
   "source": [
    "Then, I will make the question like\n",
    "\n",
    "\"User like to purchase condo around ***Dusit District*** and the it must near ***Department Store*** and ***BTS(sky train)*** or ***MRT(subway)***\n",
    "\n",
    "and if it posible it may near ***Fitness Center***\""
   ]
  },
  {
   "cell_type": "markdown",
   "metadata": {},
   "source": [
    "<h2>Data describe </h2>"
   ]
  },
  {
   "cell_type": "markdown",
   "metadata": {},
   "source": [
    "I will use Foursquare as a data source which they provide API to called and response as json data format"
   ]
  },
  {
   "cell_type": "markdown",
   "metadata": {},
   "source": [
    "By use 3 api from the  Foursquare"
   ]
  },
  {
   "cell_type": "markdown",
   "metadata": {},
   "source": [
    "#### 1. Get all category\n",
    "> `https://api.foursquare.com/v2/venues/`**categories**`?client_id=`**CLIENT_ID**`&client_secret=`**CLIENT_SECRET**`&v=`**VERSION**"
   ]
  },
  {
   "cell_type": "markdown",
   "metadata": {},
   "source": [
    "Response of API is json but I will transform it to dataframe to make it look familiar and easy to use"
   ]
  },
  {
   "cell_type": "markdown",
   "metadata": {},
   "source": [
    "|  index    | id                        | name                 |\n",
    "| --------- |:-------------------------:| --------------------:|\n",
    "| 0         | 4d4b7104d754a06370d81259  | Arts & Entertainment |\n",
    "| 1         | 56aa371be4b08b9a8d5734db  | Amphitheater         |\n",
    "| 2         | 4fceea171983d5d06c3e9823  | Aquarium             |\n",
    "| 3         | 4bf58dd8d48988d1e1931735  | Arcade               |\n",
    "| 4         | 4bf58dd8d48988d1e2931735  | Art Gallery          |"
   ]
  },
  {
   "cell_type": "markdown",
   "metadata": {},
   "source": [
    "From the dataframe it is a mapping between actual category id and category name from Foursquare API "
   ]
  },
  {
   "cell_type": "markdown",
   "metadata": {},
   "source": [
    "#### 2. Search venues\n",
    "\n",
    "search venues in radius by specific category\n",
    "> `https://api.foursquare.com/v2/venues/`**search**`?client_id=`**CLIENT_ID**`&client_secret=`**CLIENT_SECRET**`&ll=`**LATITUDE**`,`**LONGITUDE**`&v=`**VERSION**`&categoryId=`**CATEGORYID**`&radius=`**RADIUS**`&limit=`**LIMIT**\n"
   ]
  },
  {
   "cell_type": "markdown",
   "metadata": {},
   "source": [
    "I also transform this response to dataframe like"
   ]
  },
  {
   "cell_type": "markdown",
   "metadata": {},
   "source": [
    "\n",
    "\n",
    "|  index    | name                                           | categories                               | lat       | lng        | categoriesID             |\n",
    "| ---- | ---------------------------------------------- | ---------------------------------------- | --------- | ---------- | ------------------------ |\n",
    "| 0    | The Tree Rio Bang-Aor Station (เดอะทรีริโอ้ บา... | Residential Building (Apartment / Condo) | 13.800074 | 100.507650 | 4d954b06a243a5684965b473 |\n",
    "| 1    | Lumpini Place Rama 9-Ratchada (ลุมพินี เพลส พร... | Residential Building (Apartment / Condo) | 13.757777 | 100.571531 | 4d954b06a243a5684965b473 |\n",
    "| 2    | Villa Asoke (วิลล่า อโศก)                        | Residential Building (Apartment / Condo) | 13.749121 | 100.561880 | 4d954b06a243a5684965b473 |\n",
    "| 3    | noble ratchada                                 | Residential Building (Apartment / Condo) | 13.763941 | 100.569326 | 4d954b06a243a5684965b473 |\n",
    "| 4    | 333 Riverside                                  | Residential Building (Apartment / Condo) | 13.807087 | 100.520187 | 4d954b06a243a5684965b473 |\n",
    "\n",
    "\n",
    "\n"
   ]
  },
  {
   "cell_type": "markdown",
   "metadata": {},
   "source": [
    "From the dataframe it show the name of venue in this case is condo name and it information like (category name, category id , latitude, longtitude)"
   ]
  },
  {
   "cell_type": "markdown",
   "metadata": {},
   "source": [
    "#### 3. Explore venues\n",
    "> `https://api.foursquare.com/v2/venues/`**explore**`?client_id=`**CLIENT_ID**`&client_secret=`**CLIENT_SECRET**`&ll=`**LATITUDE**`,`**LONGITUDE**`&v=`**VERSION**`&radius=`**RADIUS**`&limit=`**LIMIT**"
   ]
  },
  {
   "cell_type": "markdown",
   "metadata": {},
   "source": [
    "this response transform to dataframe like"
   ]
  },
  {
   "cell_type": "markdown",
   "metadata": {},
   "source": [
    "\n",
    "\n",
    "|  index    | Neighborhood                                   | Neighborhood Latitude | Neighborhood Longitude | Venue                             | Venue Latitude | Venue Longitude | Venue Category      | Venue CategoryID         |\n",
    "| ---- | ---------------------------------------------- | --------------------- | ---------------------- | --------------------------------- | -------------- | --------------- | ------------------- | ------------------------ |\n",
    "| 0    | The Tree Rio Bang-Aor Station (เดอะทรีริโอ้ บา... | 13.800074             | 100.50765              | Baan Bang Aor (บ้านบางอ้อ)          | 13.795761      | 100.507798      | Café                | 4bf58dd8d48988d16d941735 |\n",
    "| 1    | The Tree Rio Bang-Aor Station (เดอะทรีริโอ้ บา... | 13.800074             | 100.50765              | Bang O Talae Phao (บางอ้อ ทะเลเผา) | 13.797381      | 100.508562      | Seafood Restaurant  | 4bf58dd8d48988d1ce941735 |\n",
    "| 2    | The Tree Rio Bang-Aor Station (เดอะทรีริโอ้ บา... | 13.800074             | 100.50765              | ตลาดนัด จรัญสนิทวงศ์ 95/1             | 13.803872      | 100.511289      | Flea Market         | 4bf58dd8d48988d1f7941735 |\n",
    "| 3    | The Tree Rio Bang-Aor Station (เดอะทรีริโอ้ บา... | 13.800074             | 100.50765              | icecream cafe ณ บางกรวย           | 13.806224      | 100.502430      | Ice Cream Shop      | 4bf58dd8d48988d1c9941735 |\n",
    "| 4    | The Tree Rio Bang-Aor Station (เดอะทรีริโอ้ บา... | 13.800074             | 100.50765              | KFC Drive-Thru (เคเอฟซี ไดร์ฟทรู)    | 13.794258      | 100.506616      | Fried Chicken Joint | 4d4ae6fc7a7b7dea34424761 |\n",
    "\n"
   ]
  },
  {
   "cell_type": "markdown",
   "metadata": {},
   "source": [
    "From the dataframe it show neighborhood (condo) and the venue (include detail) for each neighborhood"
   ]
  },
  {
   "cell_type": "markdown",
   "metadata": {},
   "source": [
    "<h2>Methodology </h2>"
   ]
  },
  {
   "cell_type": "markdown",
   "metadata": {},
   "source": [
    "**At first** use Foursquare API to get category id and name then map with the question"
   ]
  },
  {
   "cell_type": "markdown",
   "metadata": {},
   "source": [
    "such as I find the category id from the name \"**condo**\" and get the follow id \"**4d954b06a243a5684965b473**\""
   ]
  },
  {
   "cell_type": "markdown",
   "metadata": {},
   "source": [
    "and other category name as show\n",
    "\n",
    "\n",
    "\n",
    "| Category Name    | Category ID              |\n",
    "| ---------------- | ------------------------ |\n",
    "| Department Store | 4bf58dd8d48988d1f6941735 |\n",
    "| Train Station    | 4bf58dd8d48988d129951735 |\n",
    "| Metro Station    | 4bf58dd8d48988d1fd931735 |\n",
    "| Fiteness Center  | 4bf58dd8d48988d175941735 |\n",
    "\n"
   ]
  },
  {
   "cell_type": "code",
   "execution_count": null,
   "metadata": {},
   "outputs": [],
   "source": []
  },
  {
   "cell_type": "markdown",
   "metadata": {},
   "source": [
    "**Next**, from the question I use Package \"**Nominatim**\" in \"**geopy.geocoders**\" to get \"**Dusit District, Bangkok Thailand**\" location \n",
    "\n",
    "so, I get the geolocation of dusit district equals **13.7760795, 100.514455820625**"
   ]
  },
  {
   "cell_type": "code",
   "execution_count": null,
   "metadata": {},
   "outputs": [],
   "source": []
  },
  {
   "cell_type": "markdown",
   "metadata": {},
   "source": [
    "**Next**, I use Foursquare API to search the condo by specific categoryID equals **4d954b06a243a5684965b473** (Residential Building (Apartment / Condo))\n",
    "\n",
    "the response look like this \n",
    "\n",
    "|  index    | name                                           | categories                               | lat       | lng        | categoriesID             |\n",
    "| ---- | ---------------------------------------------- | ---------------------------------------- | --------- | ---------- | ------------------------ |\n",
    "| 0    | The Tree Rio Bang-Aor Station (เดอะทรีริโอ้ บา... | Residential Building (Apartment / Condo) | 13.800074 | 100.507650 | 4d954b06a243a5684965b473 |\n",
    "| 1    | Lumpini Place Rama 9-Ratchada (ลุมพินี เพลส พร... | Residential Building (Apartment / Condo) | 13.757777 | 100.571531 | 4d954b06a243a5684965b473 |\n",
    "| 2    | Villa Asoke (วิลล่า อโศก)                        | Residential Building (Apartment / Condo) | 13.749121 | 100.561880 | 4d954b06a243a5684965b473 |\n",
    "| 3    | noble ratchada                                 | Residential Building (Apartment / Condo) | 13.763941 | 100.569326 | 4d954b06a243a5684965b473 |\n",
    "| 4    | 333 Riverside                                  | Residential Building (Apartment / Condo) | 13.807087 | 100.520187 | 4d954b06a243a5684965b473 |\n",
    "\n",
    "\n",
    "\n",
    "\n",
    "I got **46 condos** in my condo list and I also plot the condo location into the map to make it easy to virtualize\n",
    "\n",
    "![img](https://github.com/newmint/Coursera_Capstone/blob/master/fig1.png \"img\")\n",
    "\n",
    "If image do not display, please click [here](https://github.com/newmint/Coursera_Capstone/blob/master/fig1.png)"
   ]
  },
  {
   "cell_type": "code",
   "execution_count": null,
   "metadata": {},
   "outputs": [],
   "source": []
  },
  {
   "cell_type": "markdown",
   "metadata": {},
   "source": [
    "**Next**, I also use Foursquare API to explore each condo by use condo lat, lng as geolocation to get the venues around the that them\n",
    "\n",
    "the dataframe look like this\n",
    "\n",
    "\n",
    "|  index    | Neighborhood                                   | Neighborhood Latitude | Neighborhood Longitude | Venue                             | Venue Latitude | Venue Longitude | Venue Category      | Venue CategoryID         |\n",
    "| ---- | ---------------------------------------------- | --------------------- | ---------------------- | --------------------------------- | -------------- | --------------- | ------------------- | ------------------------ |\n",
    "| 0    | The Tree Rio Bang-Aor Station (เดอะทรีริโอ้ บา... | 13.800074             | 100.50765              | Baan Bang Aor (บ้านบางอ้อ)          | 13.795761      | 100.507798      | Café                | 4bf58dd8d48988d16d941735 |\n",
    "| 1    | The Tree Rio Bang-Aor Station (เดอะทรีริโอ้ บา... | 13.800074             | 100.50765              | Bang O Talae Phao (บางอ้อ ทะเลเผา) | 13.797381      | 100.508562      | Seafood Restaurant  | 4bf58dd8d48988d1ce941735 |\n",
    "| 2    | The Tree Rio Bang-Aor Station (เดอะทรีริโอ้ บา... | 13.800074             | 100.50765              | ตลาดนัด จรัญสนิทวงศ์ 95/1             | 13.803872      | 100.511289      | Flea Market         | 4bf58dd8d48988d1f7941735 |\n",
    "| 3    | The Tree Rio Bang-Aor Station (เดอะทรีริโอ้ บา... | 13.800074             | 100.50765              | icecream cafe ณ บางกรวย           | 13.806224      | 100.502430      | Ice Cream Shop      | 4bf58dd8d48988d1c9941735 |\n",
    "| 4    | The Tree Rio Bang-Aor Station (เดอะทรีริโอ้ บา... | 13.800074             | 100.50765              | KFC Drive-Thru (เคเอฟซี ไดร์ฟทรู)    | 13.794258      | 100.506616      | Fried Chicken Joint | 4d4ae6fc7a7b7dea34424761 |\n",
    "\n",
    "\n",
    "we found **3566 venues** near all condo in the list\n"
   ]
  },
  {
   "cell_type": "code",
   "execution_count": null,
   "metadata": {},
   "outputs": [],
   "source": []
  },
  {
   "cell_type": "markdown",
   "metadata": {},
   "source": [
    "**Next**, I check through the dataframe from explore each condo. and keep only condo with all main criteria exist in venue category.\n",
    "\n",
    "the main criteria is condo must near ***Department Store*** and ***BTS(sky train)*** or ***MRT(subway)***\n",
    "\n",
    "In this step I got only 3 condo that match with criteria.\n",
    "\n",
    "\n",
    "\n",
    "|   index   | name                          | lat       | lng        |\n",
    "| ---- | ----------------------------- | --------- | ---------- |\n",
    "| 0    | The Address Chidlom           | 13.747803 | 100.545584 |\n",
    "| 1    | Pathumwan Resort (ปทุมวันรีสอร์ท) | 13.754710 | 100.533998 |\n",
    "| 2    | Athenee Residence             | 13.741017 | 100.549427 |"
   ]
  },
  {
   "cell_type": "code",
   "execution_count": null,
   "metadata": {},
   "outputs": [],
   "source": []
  },
  {
   "cell_type": "markdown",
   "metadata": {},
   "source": [
    "**Finally**, I check those remain condo have any extra criteria I concern. \n",
    "\n",
    "And I found that all of them are near **Fitness Center**\n",
    "\n",
    "\n",
    "\n",
    "\n",
    "|   index   | name                          | lat       | lng        | Extra Option           |\n",
    "| ---- | ----------------------------- | --------- | ---------- | ---------------------- |\n",
    "| 0    | The Address Chidlom           | 13.747803 | 100.545584 | [Gym / Fitness Center] |\n",
    "| 1    | Pathumwan Resort (ปทุมวันรีสอร์ท) | 13.754710 | 100.533998 | [Gym / Fitness Center] |\n",
    "| 2    | Athenee Residence             | 13.741017 | 100.549427 | [Gym / Fitness Center] |\n",
    "\n",
    "\n",
    "I also plot the condo location into the map\n",
    "\n",
    "![img](https://github.com/newmint/Coursera_Capstone/blob/master/fig2.png \"img\")\n",
    "\n",
    "If image do not display, please click [here](https://github.com/newmint/Coursera_Capstone/blob/master/fig2.png)\n"
   ]
  },
  {
   "cell_type": "code",
   "execution_count": null,
   "metadata": {},
   "outputs": [],
   "source": []
  },
  {
   "cell_type": "markdown",
   "metadata": {},
   "source": [
    "<h2>Results </h2>"
   ]
  },
  {
   "cell_type": "markdown",
   "metadata": {},
   "source": [
    "For the result I found the 3 condo around \"**Dusit District, Bangkok Thailand**\" that \n",
    "\n",
    "the location near ***Department Store*** and ***BTS(sky train)*** or ***MRT(subway)***.\n",
    "\n",
    "And all of them also near the **Fitness Center**"
   ]
  },
  {
   "cell_type": "markdown",
   "metadata": {},
   "source": [
    "Three of them are\n",
    "\n",
    "|   index   | name                          | latitude       | longitude        | Also Near           |\n",
    "| ---- | ----------------------------- | --------- | ---------- | ---------------------- |\n",
    "| 0    | The Address Chidlom           | 13.747803 | 100.545584 | [Gym / Fitness Center] |\n",
    "| 1    | Pathumwan Resort (ปทุมวันรีสอร์ท) | 13.754710 | 100.533998 | [Gym / Fitness Center] |\n",
    "| 2    | Athenee Residence             | 13.741017 | 100.549427 | [Gym / Fitness Center] |"
   ]
  },
  {
   "cell_type": "markdown",
   "metadata": {},
   "source": [
    "<h2>Discussion</h2>"
   ]
  },
  {
   "cell_type": "markdown",
   "metadata": {},
   "source": [
    "For the lab I do, I found 3 candidate condo but after second think I do not know about the room available to sell or price does not include\n",
    "\n",
    "so, my recommendations is \"**it will better use the data of condo selling and price into the process**\""
   ]
  },
  {
   "cell_type": "code",
   "execution_count": null,
   "metadata": {},
   "outputs": [],
   "source": []
  },
  {
   "cell_type": "markdown",
   "metadata": {},
   "source": [
    "<h2>Conclusion</h2>"
   ]
  },
  {
   "cell_type": "markdown",
   "metadata": {},
   "source": [
    "From the lab, I can find the condo (can apply to other type of living place) in the specify location and by using Foursquare API \n",
    "I can get the venue near the condo. This will help the person who want to purchase the condo a lot by specify the near category type name\n",
    "\n",
    "Finally, I hope this lab should help someone to screen the condo and help them to find condo candidate. "
   ]
  },
  {
   "cell_type": "code",
   "execution_count": null,
   "metadata": {},
   "outputs": [],
   "source": []
  }
 ],
 "metadata": {
  "kernelspec": {
   "display_name": "Python 3",
   "language": "python",
   "name": "python3"
  },
  "language_info": {
   "codemirror_mode": {
    "name": "ipython",
    "version": 3
   },
   "file_extension": ".py",
   "mimetype": "text/x-python",
   "name": "python",
   "nbconvert_exporter": "python",
   "pygments_lexer": "ipython3",
   "version": "3.6.5"
  }
 },
 "nbformat": 4,
 "nbformat_minor": 2
}
