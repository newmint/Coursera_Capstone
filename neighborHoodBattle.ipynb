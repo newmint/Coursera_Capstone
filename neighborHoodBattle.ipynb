{
 "cells": [
  {
   "cell_type": "markdown",
   "metadata": {},
   "source": [
    "<h2>Question of Analyze </h2>"
   ]
  },
  {
   "cell_type": "markdown",
   "metadata": {},
   "source": [
    "\"User like to purchase condo around ***Dusit District*** and the it must near ***Department Store*** and ***BTS(sky train)*** or ***MRT(subway)***\n",
    "\n",
    "and if it posible it may near ***Fitness Center***\"\n"
   ]
  },
  {
   "cell_type": "code",
   "execution_count": null,
   "metadata": {},
   "outputs": [],
   "source": []
  },
  {
   "cell_type": "code",
   "execution_count": 1,
   "metadata": {},
   "outputs": [
    {
     "name": "stdout",
     "output_type": "stream",
     "text": [
      "Solving environment: done\n",
      "\n",
      "# All requested packages already installed.\n",
      "\n",
      "Solving environment: done\n",
      "\n",
      "# All requested packages already installed.\n",
      "\n"
     ]
    }
   ],
   "source": [
    "!conda install -c conda-forge geopy --yes \n",
    "!conda install -c conda-forge folium=0.5.0 --yes\n",
    "\n",
    "import folium # plotting library\n",
    "from geopy.geocoders import Nominatim # module to convert an address into latitude and longitude values"
   ]
  },
  {
   "cell_type": "code",
   "execution_count": 2,
   "metadata": {},
   "outputs": [
    {
     "name": "stdout",
     "output_type": "stream",
     "text": [
      "Folium installed\n",
      "Libraries imported.\n"
     ]
    }
   ],
   "source": [
    "\n",
    "import requests # library to handle requests\n",
    "import pandas as pd # library for data analsysis\n",
    "import numpy as np # library to handle data in a vectorized manner\n",
    "import random # library for random number generation\n",
    "\n",
    "# libraries for displaying images\n",
    "from IPython.display import Image \n",
    "from IPython.core.display import HTML \n",
    "    \n",
    "# tranforming json file into a pandas dataframe library\n",
    "from pandas.io.json import json_normalize\n",
    "import json\n",
    "\n",
    "print('Folium installed')\n",
    "print('Libraries imported.')"
   ]
  },
  {
   "cell_type": "code",
   "execution_count": null,
   "metadata": {},
   "outputs": [],
   "source": []
  },
  {
   "cell_type": "markdown",
   "metadata": {},
   "source": [
    "<h3>Define Function and Param</h3>"
   ]
  },
  {
   "cell_type": "code",
   "execution_count": 3,
   "metadata": {},
   "outputs": [],
   "source": [
    "def getNeighborHoodLocation(address):\n",
    "    geolocator = Nominatim()\n",
    "    location = geolocator.geocode(address)\n",
    "    return location"
   ]
  },
  {
   "cell_type": "code",
   "execution_count": null,
   "metadata": {},
   "outputs": [],
   "source": []
  },
  {
   "cell_type": "code",
   "execution_count": 4,
   "metadata": {},
   "outputs": [],
   "source": [
    "def meetAllMainCriteria(inCateList):\n",
    "    output = False\n",
    "    tempMain = mainCriteria.copy()\n",
    "    \n",
    "    for i,criteria in enumerate(mainCriteria):\n",
    "        checkCate = criteria\n",
    "        #print(\"checkCate : \",checkCate)\n",
    "        if any(s in checkCate for s in inCateList):\n",
    "            tempMain.remove(checkCate)\n",
    "    \n",
    "    if(len(tempMain)==0):\n",
    "        output = True\n",
    "    \n",
    "    #print(tempMain)\n",
    "    return output\n",
    "    "
   ]
  },
  {
   "cell_type": "code",
   "execution_count": 5,
   "metadata": {},
   "outputs": [],
   "source": [
    "#seta = {'4bf58dd8d48988d1f6941735'}\n",
    "#meetAllMainCriteria(seta)"
   ]
  },
  {
   "cell_type": "code",
   "execution_count": 6,
   "metadata": {},
   "outputs": [],
   "source": [
    "def getListExtraCriteria(inCateList):\n",
    "    \n",
    "    setIntersec = set(inCateList).intersection(extraCriteria)\n",
    "    output = []\n",
    "    for i,a in enumerate(setIntersec):\n",
    "        #output.append(a)\n",
    "        output.append(list(allCategoryDF[allCategoryDF['id']==a]['name'])[0])\n",
    "        \n",
    "    return (output)"
   ]
  },
  {
   "cell_type": "code",
   "execution_count": null,
   "metadata": {},
   "outputs": [],
   "source": []
  },
  {
   "cell_type": "code",
   "execution_count": 7,
   "metadata": {},
   "outputs": [
    {
     "name": "stdout",
     "output_type": "stream",
     "text": [
      "Your credentails:\n",
      "CLIENT_ID: xxxxxxxxxxxxxxxxxxxxxxxxxxxxxxxx\n",
      "CLIENT_SECRET:xxxxxxxxxxxxxxxxxxxxxxxxxxxxxxxxx\n"
     ]
    }
   ],
   "source": [
    "#Foursquare\n",
    "\n",
    "CLIENT_ID = 'xxxxxxxxxxxxxxxxxxxxxxxxxxxxxxxx' # your Foursquare ID\n",
    "CLIENT_SECRET = 'xxxxxxxxxxxxxxxxxxxxxxxxxxxxxxx' # your Foursquare Secret\n",
    "VERSION = '20180604'\n",
    "LIMIT = 30\n",
    "print('Your credentails:')\n",
    "print('CLIENT_ID: ' + CLIENT_ID)\n",
    "print('CLIENT_SECRET:' + CLIENT_SECRET)"
   ]
  },
  {
   "cell_type": "code",
   "execution_count": 8,
   "metadata": {},
   "outputs": [],
   "source": [
    "def getAllCategory(categoryResp):\n",
    "    categoryBranch = categoryResp['categories']\n",
    "    idList = []\n",
    "    nameList = []\n",
    "    for i,node in enumerate(categoryBranch):\n",
    "        idList.append(node['id'])\n",
    "        nameList.append(node['name'])\n",
    "        \n",
    "        if('categories' in node.keys()):\n",
    "            subDict = getAllCategory(node)\n",
    "            \n",
    "        idList.extend(subDict['id'])\n",
    "        nameList.extend(subDict['name'])\n",
    "    \n",
    "    categoryDict = {'id':idList,'name':nameList}\n",
    "    \n",
    "    return categoryDict\n"
   ]
  },
  {
   "cell_type": "code",
   "execution_count": 9,
   "metadata": {},
   "outputs": [],
   "source": [
    "def get_category_type(row):\n",
    "    try:\n",
    "        categories_list = row['categories']\n",
    "    except:\n",
    "        categories_list = row['venue.categories']\n",
    "        \n",
    "    if len(categories_list) == 0:\n",
    "        return None\n",
    "    else:\n",
    "        output = []\n",
    "        output.append(categories_list[0]['id'])\n",
    "        output.append(categories_list[0]['name'])\n",
    "        return output"
   ]
  },
  {
   "cell_type": "code",
   "execution_count": 10,
   "metadata": {},
   "outputs": [],
   "source": [
    "def getVenueNameCategoryType(venues):\n",
    "    \n",
    "    nearby_venues = json_normalize(venues) # flatten JSON\n",
    "\n",
    "    # filter columns\n",
    "    filtered_columns = ['name', 'categories', 'location.lat', 'location.lng']\n",
    "    nearby_venues = nearby_venues.loc[:, filtered_columns]\n",
    "    \n",
    "\n",
    "    # filter the category for each row\n",
    "    nearby_venues['categories'] = nearby_venues.apply(get_category_type, axis=1)\n",
    "    nearby_venues[['categoriesID','categories']] = pd.DataFrame(nearby_venues.categories.values.tolist(), index= nearby_venues.index)\n",
    "\n",
    "    # clean columns\n",
    "    nearby_venues.columns = [col.split(\".\")[-1] for col in nearby_venues.columns]\n",
    "\n",
    "    return nearby_venues\n"
   ]
  },
  {
   "cell_type": "code",
   "execution_count": 11,
   "metadata": {},
   "outputs": [],
   "source": [
    "def getNearbyVenues(names, latitudes, longitudes, radius=500):\n",
    "    \n",
    "    venues_list=[]\n",
    "    for name, lat, lng in zip(names, latitudes, longitudes):\n",
    "        #print(name)\n",
    "            \n",
    "        # create the API request URL\n",
    "        url = 'https://api.foursquare.com/v2/venues/explore?&client_id={}&client_secret={}&v={}&ll={},{}&radius={}&limit={}'.format(\n",
    "            CLIENT_ID, \n",
    "            CLIENT_SECRET, \n",
    "            VERSION, \n",
    "            lat, \n",
    "            lng, \n",
    "            radius, \n",
    "            '100')\n",
    "            \n",
    "        # make the GET request\n",
    "        results = requests.get(url).json()[\"response\"]['groups'][0]['items']\n",
    "        \n",
    "        # return only relevant information for each nearby venue\n",
    "        venues_list.append([(\n",
    "            name, \n",
    "            lat, \n",
    "            lng, \n",
    "            v['venue']['name'], \n",
    "            v['venue']['location']['lat'], \n",
    "            v['venue']['location']['lng'],  \n",
    "            v['venue']['categories'][0]['name'],  \n",
    "            v['venue']['categories'][0]['id']) for v in results])\n",
    "\n",
    "    nearby_venues = pd.DataFrame([item for venue_list in venues_list for item in venue_list])\n",
    "    nearby_venues.columns = ['Neighborhood', \n",
    "                  'Neighborhood Latitude', \n",
    "                  'Neighborhood Longitude', \n",
    "                  'Venue', \n",
    "                  'Venue Latitude', \n",
    "                  'Venue Longitude', \n",
    "                  'Venue Category', \n",
    "                  'Venue CategoryID']\n",
    "    \n",
    "    return(nearby_venues)"
   ]
  },
  {
   "cell_type": "markdown",
   "metadata": {},
   "source": [
    "<h2>Data Describe</h2>"
   ]
  },
  {
   "cell_type": "markdown",
   "metadata": {},
   "source": [
    "result from check category through foursquare api"
   ]
  },
  {
   "cell_type": "code",
   "execution_count": 12,
   "metadata": {},
   "outputs": [
    {
     "data": {
      "text/plain": [
       "'{\"meta\": {\"code\": 200, \"requestId\": \"5be542d76a60712ec33a989c\"}, \"response\": {\"categories\": [{\"id\": \"4d4b7104d754a06370d81259\", \"name\": \"Arts & Entertainment\", \"pluralName\": \"Arts & Entertainment\", \"shortName\": \"Arts & Entertainment\", \"icon\": {\"prefix\": \"https://ss3.4sqi.net/img/categories_v2/arts_entertainment/default_\", \"suffix\": \".png\"}, \"categories\": [{\"id\": \"56aa371be4b08b9a8d5734db\", \"name\": \"Amphitheater\", \"pluralName\": \"Amphitheaters\", \"shortName\": \"Amphitheater\", \"icon\": {\"prefix\": \"htt'"
      ]
     },
     "execution_count": 12,
     "metadata": {},
     "output_type": "execute_result"
    }
   ],
   "source": [
    "#get category\n",
    "\n",
    "url = 'https://api.foursquare.com/v2/venues/categories?client_id={}&client_secret={}&v={}'.format(CLIENT_ID, CLIENT_SECRET, VERSION)\n",
    "url\n",
    "\n",
    "results = requests.get(url).json()\n",
    "json.dumps(results)[0:500]  #example print\n"
   ]
  },
  {
   "cell_type": "markdown",
   "metadata": {},
   "source": [
    "Response of category query is json\n",
    "\n",
    "Try to parse it into DataFrame "
   ]
  },
  {
   "cell_type": "code",
   "execution_count": 13,
   "metadata": {},
   "outputs": [
    {
     "data": {
      "text/html": [
       "<div>\n",
       "<style scoped>\n",
       "    .dataframe tbody tr th:only-of-type {\n",
       "        vertical-align: middle;\n",
       "    }\n",
       "\n",
       "    .dataframe tbody tr th {\n",
       "        vertical-align: top;\n",
       "    }\n",
       "\n",
       "    .dataframe thead th {\n",
       "        text-align: right;\n",
       "    }\n",
       "</style>\n",
       "<table border=\"1\" class=\"dataframe\">\n",
       "  <thead>\n",
       "    <tr style=\"text-align: right;\">\n",
       "      <th></th>\n",
       "      <th>id</th>\n",
       "      <th>name</th>\n",
       "    </tr>\n",
       "  </thead>\n",
       "  <tbody>\n",
       "    <tr>\n",
       "      <th>0</th>\n",
       "      <td>4d4b7104d754a06370d81259</td>\n",
       "      <td>Arts &amp; Entertainment</td>\n",
       "    </tr>\n",
       "    <tr>\n",
       "      <th>1</th>\n",
       "      <td>56aa371be4b08b9a8d5734db</td>\n",
       "      <td>Amphitheater</td>\n",
       "    </tr>\n",
       "    <tr>\n",
       "      <th>2</th>\n",
       "      <td>4fceea171983d5d06c3e9823</td>\n",
       "      <td>Aquarium</td>\n",
       "    </tr>\n",
       "    <tr>\n",
       "      <th>3</th>\n",
       "      <td>4bf58dd8d48988d1e1931735</td>\n",
       "      <td>Arcade</td>\n",
       "    </tr>\n",
       "    <tr>\n",
       "      <th>4</th>\n",
       "      <td>4bf58dd8d48988d1e2931735</td>\n",
       "      <td>Art Gallery</td>\n",
       "    </tr>\n",
       "  </tbody>\n",
       "</table>\n",
       "</div>"
      ],
      "text/plain": [
       "                         id                  name\n",
       "0  4d4b7104d754a06370d81259  Arts & Entertainment\n",
       "1  56aa371be4b08b9a8d5734db          Amphitheater\n",
       "2  4fceea171983d5d06c3e9823              Aquarium\n",
       "3  4bf58dd8d48988d1e1931735                Arcade\n",
       "4  4bf58dd8d48988d1e2931735           Art Gallery"
      ]
     },
     "execution_count": 13,
     "metadata": {},
     "output_type": "execute_result"
    }
   ],
   "source": [
    "categoryDict = getAllCategory(results[\"response\"])\n",
    "allCategoryDF = pd.DataFrame(categoryDict)\n",
    "allCategoryDF.head()"
   ]
  },
  {
   "cell_type": "markdown",
   "metadata": {},
   "source": [
    "Looking for Category \"***Condo***\""
   ]
  },
  {
   "cell_type": "code",
   "execution_count": 14,
   "metadata": {},
   "outputs": [
    {
     "data": {
      "text/html": [
       "<div>\n",
       "<style scoped>\n",
       "    .dataframe tbody tr th:only-of-type {\n",
       "        vertical-align: middle;\n",
       "    }\n",
       "\n",
       "    .dataframe tbody tr th {\n",
       "        vertical-align: top;\n",
       "    }\n",
       "\n",
       "    .dataframe thead th {\n",
       "        text-align: right;\n",
       "    }\n",
       "</style>\n",
       "<table border=\"1\" class=\"dataframe\">\n",
       "  <thead>\n",
       "    <tr style=\"text-align: right;\">\n",
       "      <th></th>\n",
       "      <th>id</th>\n",
       "      <th>name</th>\n",
       "    </tr>\n",
       "  </thead>\n",
       "  <tbody>\n",
       "    <tr>\n",
       "      <th>708</th>\n",
       "      <td>4d954b06a243a5684965b473</td>\n",
       "      <td>Residential Building (Apartment / Condo)</td>\n",
       "    </tr>\n",
       "  </tbody>\n",
       "</table>\n",
       "</div>"
      ],
      "text/plain": [
       "                           id                                      name\n",
       "708  4d954b06a243a5684965b473  Residential Building (Apartment / Condo)"
      ]
     },
     "execution_count": 14,
     "metadata": {},
     "output_type": "execute_result"
    }
   ],
   "source": [
    "allCategoryDF[allCategoryDF['name'].str.contains(\"Condo\") ]"
   ]
  },
  {
   "cell_type": "markdown",
   "metadata": {},
   "source": [
    "Found that category for condo is actully name \"***Residential Building (Apartment / Condo)***\" and id equals \"***4d954b06a243a5684965b473***\""
   ]
  },
  {
   "cell_type": "code",
   "execution_count": null,
   "metadata": {},
   "outputs": [],
   "source": []
  },
  {
   "cell_type": "markdown",
   "metadata": {},
   "source": [
    "Looking for Category \"***Department Store, Train Station, Metro Station and Fitness Center***\""
   ]
  },
  {
   "cell_type": "code",
   "execution_count": 15,
   "metadata": {},
   "outputs": [
    {
     "data": {
      "text/html": [
       "<div>\n",
       "<style scoped>\n",
       "    .dataframe tbody tr th:only-of-type {\n",
       "        vertical-align: middle;\n",
       "    }\n",
       "\n",
       "    .dataframe tbody tr th {\n",
       "        vertical-align: top;\n",
       "    }\n",
       "\n",
       "    .dataframe thead th {\n",
       "        text-align: right;\n",
       "    }\n",
       "</style>\n",
       "<table border=\"1\" class=\"dataframe\">\n",
       "  <thead>\n",
       "    <tr style=\"text-align: right;\">\n",
       "      <th></th>\n",
       "      <th>id</th>\n",
       "      <th>name</th>\n",
       "    </tr>\n",
       "  </thead>\n",
       "  <tbody>\n",
       "    <tr>\n",
       "      <th>754</th>\n",
       "      <td>4bf58dd8d48988d1f6941735</td>\n",
       "      <td>Department Store</td>\n",
       "    </tr>\n",
       "  </tbody>\n",
       "</table>\n",
       "</div>"
      ],
      "text/plain": [
       "                           id              name\n",
       "754  4bf58dd8d48988d1f6941735  Department Store"
      ]
     },
     "execution_count": 15,
     "metadata": {},
     "output_type": "execute_result"
    }
   ],
   "source": [
    "#Department Store\n",
    "allCategoryDF[allCategoryDF['name'].str.contains(\"Department Store\") ]"
   ]
  },
  {
   "cell_type": "code",
   "execution_count": 16,
   "metadata": {},
   "outputs": [
    {
     "data": {
      "text/html": [
       "<div>\n",
       "<style scoped>\n",
       "    .dataframe tbody tr th:only-of-type {\n",
       "        vertical-align: middle;\n",
       "    }\n",
       "\n",
       "    .dataframe tbody tr th {\n",
       "        vertical-align: top;\n",
       "    }\n",
       "\n",
       "    .dataframe thead th {\n",
       "        text-align: right;\n",
       "    }\n",
       "</style>\n",
       "<table border=\"1\" class=\"dataframe\">\n",
       "  <thead>\n",
       "    <tr style=\"text-align: right;\">\n",
       "      <th></th>\n",
       "      <th>id</th>\n",
       "      <th>name</th>\n",
       "    </tr>\n",
       "  </thead>\n",
       "  <tbody>\n",
       "    <tr>\n",
       "      <th>930</th>\n",
       "      <td>4bf58dd8d48988d129951735</td>\n",
       "      <td>Train Station</td>\n",
       "    </tr>\n",
       "  </tbody>\n",
       "</table>\n",
       "</div>"
      ],
      "text/plain": [
       "                           id           name\n",
       "930  4bf58dd8d48988d129951735  Train Station"
      ]
     },
     "execution_count": 16,
     "metadata": {},
     "output_type": "execute_result"
    }
   ],
   "source": [
    "#Train Station\n",
    "allCategoryDF[allCategoryDF['name'].str.contains(\"Train Station\") ]"
   ]
  },
  {
   "cell_type": "code",
   "execution_count": 17,
   "metadata": {},
   "outputs": [
    {
     "data": {
      "text/html": [
       "<div>\n",
       "<style scoped>\n",
       "    .dataframe tbody tr th:only-of-type {\n",
       "        vertical-align: middle;\n",
       "    }\n",
       "\n",
       "    .dataframe tbody tr th {\n",
       "        vertical-align: top;\n",
       "    }\n",
       "\n",
       "    .dataframe thead th {\n",
       "        text-align: right;\n",
       "    }\n",
       "</style>\n",
       "<table border=\"1\" class=\"dataframe\">\n",
       "  <thead>\n",
       "    <tr style=\"text-align: right;\">\n",
       "      <th></th>\n",
       "      <th>id</th>\n",
       "      <th>name</th>\n",
       "    </tr>\n",
       "  </thead>\n",
       "  <tbody>\n",
       "    <tr>\n",
       "      <th>917</th>\n",
       "      <td>4bf58dd8d48988d1fd931735</td>\n",
       "      <td>Metro Station</td>\n",
       "    </tr>\n",
       "  </tbody>\n",
       "</table>\n",
       "</div>"
      ],
      "text/plain": [
       "                           id           name\n",
       "917  4bf58dd8d48988d1fd931735  Metro Station"
      ]
     },
     "execution_count": 17,
     "metadata": {},
     "output_type": "execute_result"
    }
   ],
   "source": [
    "#Metro Station\n",
    "allCategoryDF[allCategoryDF['name'].str.contains(\"Metro Station\") ]"
   ]
  },
  {
   "cell_type": "code",
   "execution_count": 18,
   "metadata": {},
   "outputs": [
    {
     "data": {
      "text/html": [
       "<div>\n",
       "<style scoped>\n",
       "    .dataframe tbody tr th:only-of-type {\n",
       "        vertical-align: middle;\n",
       "    }\n",
       "\n",
       "    .dataframe tbody tr th {\n",
       "        vertical-align: top;\n",
       "    }\n",
       "\n",
       "    .dataframe thead th {\n",
       "        text-align: right;\n",
       "    }\n",
       "</style>\n",
       "<table border=\"1\" class=\"dataframe\">\n",
       "  <thead>\n",
       "    <tr style=\"text-align: right;\">\n",
       "      <th></th>\n",
       "      <th>id</th>\n",
       "      <th>name</th>\n",
       "    </tr>\n",
       "  </thead>\n",
       "  <tbody>\n",
       "    <tr>\n",
       "      <th>499</th>\n",
       "      <td>4bf58dd8d48988d175941735</td>\n",
       "      <td>Gym / Fitness Center</td>\n",
       "    </tr>\n",
       "  </tbody>\n",
       "</table>\n",
       "</div>"
      ],
      "text/plain": [
       "                           id                  name\n",
       "499  4bf58dd8d48988d175941735  Gym / Fitness Center"
      ]
     },
     "execution_count": 18,
     "metadata": {},
     "output_type": "execute_result"
    }
   ],
   "source": [
    "#Fitness\n",
    "allCategoryDF[allCategoryDF['name'].str.contains(\"Fitness\") ]"
   ]
  },
  {
   "cell_type": "markdown",
   "metadata": {},
   "source": [
    "The Name of other category is ok but we will use ***Category ID*** because it unique, spaceless and only one value."
   ]
  },
  {
   "cell_type": "markdown",
   "metadata": {},
   "source": [
    "<h2>Initial Request Data</h2>"
   ]
  },
  {
   "cell_type": "code",
   "execution_count": 19,
   "metadata": {},
   "outputs": [],
   "source": [
    "neighborhood = 'Dusit District Bangkok, Thailand'\n",
    "neighborhoodRadius = 5000"
   ]
  },
  {
   "cell_type": "markdown",
   "metadata": {},
   "source": [
    "From ***Data Describe*** I will change criteria from category name to category id"
   ]
  },
  {
   "cell_type": "markdown",
   "metadata": {},
   "source": [
    " \n",
    "| Category Name        | Category ID           |\n",
    "|:-------------:|:-------------:|\n",
    "|Department Store | 4bf58dd8d48988d1f6941735  |\n",
    "|Train Station | 4bf58dd8d48988d129951735  |\n",
    "|Metro Station | 4bf58dd8d48988d1fd931735  |\n",
    "|Fiteness Center | 4bf58dd8d48988d175941735  |"
   ]
  },
  {
   "cell_type": "code",
   "execution_count": 20,
   "metadata": {},
   "outputs": [],
   "source": [
    "mainCriteria = ['4bf58dd8d48988d1f6941735', '4bf58dd8d48988d129951735|4bf58dd8d48988d1fd931735']\n",
    "extraCriteria = ['4bf58dd8d48988d175941735']\n",
    "condoRadius = 1000"
   ]
  },
  {
   "cell_type": "markdown",
   "metadata": {},
   "source": [
    "<h2>Explore Condo in Neighborhood</h2>"
   ]
  },
  {
   "cell_type": "code",
   "execution_count": null,
   "metadata": {},
   "outputs": [],
   "source": []
  },
  {
   "cell_type": "code",
   "execution_count": 21,
   "metadata": {},
   "outputs": [
    {
     "name": "stderr",
     "output_type": "stream",
     "text": [
      "/home/jupyterlab/conda/lib/python3.6/site-packages/geopy/geocoders/osm.py:143: UserWarning: Using Nominatim with the default \"geopy/1.17.0\" `user_agent` is strongly discouraged, as it violates Nominatim's ToS https://operations.osmfoundation.org/policies/nominatim/ and may possibly cause 403 and 429 HTTP errors. Please specify a custom `user_agent` with `Nominatim(user_agent=\"my-application\")` or by overriding the default `user_agent`: `geopy.geocoders.options.default_user_agent = \"my-application\"`. In geopy 2.0 this will become an exception.\n",
      "  UserWarning\n"
     ]
    }
   ],
   "source": [
    "neighborhoodLocation = getNeighborHoodLocation(neighborhood)"
   ]
  },
  {
   "cell_type": "code",
   "execution_count": 22,
   "metadata": {},
   "outputs": [
    {
     "data": {
      "text/plain": [
       "'{\"meta\": {\"code\": 200, \"requestId\": \"5be542d8351e3d280e1fefe9\"}, \"response\": {\"venues\": [{\"id\": \"4cadf908bf70236a486704f9\", \"name\": \"Doctor Dormitory (\\\\u0e2b\\\\u0e2d\\\\u0e1e\\\\u0e31\\\\u0e01\\\\u0e41\\\\u0e1e\\\\u0e17\\\\u0e22\\\\u0e4c)\", \"location\": {\"address\": \"Ramathibodi Hospital\", \"lat\": 13.76773115732634, \"lng\": 100.526239767615, \"labeledLatLngs\": [{\"label\": \"display\", \"lat\": 13.76773115732634, \"lng\": 100.526239767615}], \"distance\": 1576, \"postalCode\": \"10400\", \"cc\": \"TH\", \"city\": \"\\\\u0e23\\\\u0e32\\\\u0e0a\\\\u0e40\\\\u0e17\\\\'"
      ]
     },
     "execution_count": 22,
     "metadata": {},
     "output_type": "execute_result"
    }
   ],
   "source": [
    "#condo\n",
    "condoCategoryID = '4d954b06a243a5684965b473'     \n",
    "limit = 50\n",
    "\n",
    "url = 'https://api.foursquare.com/v2/venues/search?client_id={}&client_secret={}&ll={},{}&v={}&categoryId={}&radius={}&limit={}'.format(CLIENT_ID, CLIENT_SECRET, neighborhoodLocation.latitude, neighborhoodLocation.longitude, VERSION, condoCategoryID, neighborhoodRadius, limit)\n",
    "url\n",
    "\n",
    "results = requests.get(url).json()\n",
    "json.dumps(results)[0:500]  #example print"
   ]
  },
  {
   "cell_type": "markdown",
   "metadata": {},
   "source": [
    "response from api is a json ,so I will parse it into dataframe"
   ]
  },
  {
   "cell_type": "code",
   "execution_count": 23,
   "metadata": {},
   "outputs": [
    {
     "data": {
      "text/html": [
       "<div>\n",
       "<style scoped>\n",
       "    .dataframe tbody tr th:only-of-type {\n",
       "        vertical-align: middle;\n",
       "    }\n",
       "\n",
       "    .dataframe tbody tr th {\n",
       "        vertical-align: top;\n",
       "    }\n",
       "\n",
       "    .dataframe thead th {\n",
       "        text-align: right;\n",
       "    }\n",
       "</style>\n",
       "<table border=\"1\" class=\"dataframe\">\n",
       "  <thead>\n",
       "    <tr style=\"text-align: right;\">\n",
       "      <th></th>\n",
       "      <th>name</th>\n",
       "      <th>categories</th>\n",
       "      <th>lat</th>\n",
       "      <th>lng</th>\n",
       "      <th>categoriesID</th>\n",
       "    </tr>\n",
       "  </thead>\n",
       "  <tbody>\n",
       "    <tr>\n",
       "      <th>0</th>\n",
       "      <td>Doctor Dormitory (หอพักแพทย์)</td>\n",
       "      <td>College Residence Hall</td>\n",
       "      <td>13.767731</td>\n",
       "      <td>100.526240</td>\n",
       "      <td>4bf58dd8d48988d1a3941735</td>\n",
       "    </tr>\n",
       "    <tr>\n",
       "      <th>1</th>\n",
       "      <td>The Tree Rio Bang-Aor Station (เดอะทรีริโอ้ บา...</td>\n",
       "      <td>Residential Building (Apartment / Condo)</td>\n",
       "      <td>13.800074</td>\n",
       "      <td>100.507650</td>\n",
       "      <td>4d954b06a243a5684965b473</td>\n",
       "    </tr>\n",
       "    <tr>\n",
       "      <th>2</th>\n",
       "      <td>Lumpini Place Rama 9-Ratchada (ลุมพินี เพลส พร...</td>\n",
       "      <td>Residential Building (Apartment / Condo)</td>\n",
       "      <td>13.757777</td>\n",
       "      <td>100.571531</td>\n",
       "      <td>4d954b06a243a5684965b473</td>\n",
       "    </tr>\n",
       "    <tr>\n",
       "      <th>3</th>\n",
       "      <td>Villa Asoke (วิลล่า อโศก)</td>\n",
       "      <td>Residential Building (Apartment / Condo)</td>\n",
       "      <td>13.749121</td>\n",
       "      <td>100.561880</td>\n",
       "      <td>4d954b06a243a5684965b473</td>\n",
       "    </tr>\n",
       "    <tr>\n",
       "      <th>4</th>\n",
       "      <td>noble ratchada</td>\n",
       "      <td>Residential Building (Apartment / Condo)</td>\n",
       "      <td>13.763941</td>\n",
       "      <td>100.569326</td>\n",
       "      <td>4d954b06a243a5684965b473</td>\n",
       "    </tr>\n",
       "  </tbody>\n",
       "</table>\n",
       "</div>"
      ],
      "text/plain": [
       "                                                name  \\\n",
       "0                      Doctor Dormitory (หอพักแพทย์)   \n",
       "1  The Tree Rio Bang-Aor Station (เดอะทรีริโอ้ บา...   \n",
       "2  Lumpini Place Rama 9-Ratchada (ลุมพินี เพลส พร...   \n",
       "3                          Villa Asoke (วิลล่า อโศก)   \n",
       "4                                     noble ratchada   \n",
       "\n",
       "                                 categories        lat         lng  \\\n",
       "0                    College Residence Hall  13.767731  100.526240   \n",
       "1  Residential Building (Apartment / Condo)  13.800074  100.507650   \n",
       "2  Residential Building (Apartment / Condo)  13.757777  100.571531   \n",
       "3  Residential Building (Apartment / Condo)  13.749121  100.561880   \n",
       "4  Residential Building (Apartment / Condo)  13.763941  100.569326   \n",
       "\n",
       "               categoriesID  \n",
       "0  4bf58dd8d48988d1a3941735  \n",
       "1  4d954b06a243a5684965b473  \n",
       "2  4d954b06a243a5684965b473  \n",
       "3  4d954b06a243a5684965b473  \n",
       "4  4d954b06a243a5684965b473  "
      ]
     },
     "execution_count": 23,
     "metadata": {},
     "output_type": "execute_result"
    }
   ],
   "source": [
    "foundDF = getVenueNameCategoryType(results['response']['venues'])\n",
    "foundDF.head()"
   ]
  },
  {
   "cell_type": "markdown",
   "metadata": {},
   "source": [
    "remove none condo result from the data frame"
   ]
  },
  {
   "cell_type": "code",
   "execution_count": 24,
   "metadata": {},
   "outputs": [
    {
     "data": {
      "text/html": [
       "<div>\n",
       "<style scoped>\n",
       "    .dataframe tbody tr th:only-of-type {\n",
       "        vertical-align: middle;\n",
       "    }\n",
       "\n",
       "    .dataframe tbody tr th {\n",
       "        vertical-align: top;\n",
       "    }\n",
       "\n",
       "    .dataframe thead th {\n",
       "        text-align: right;\n",
       "    }\n",
       "</style>\n",
       "<table border=\"1\" class=\"dataframe\">\n",
       "  <thead>\n",
       "    <tr style=\"text-align: right;\">\n",
       "      <th></th>\n",
       "      <th>name</th>\n",
       "      <th>categories</th>\n",
       "      <th>lat</th>\n",
       "      <th>lng</th>\n",
       "      <th>categoriesID</th>\n",
       "    </tr>\n",
       "  </thead>\n",
       "  <tbody>\n",
       "    <tr>\n",
       "      <th>0</th>\n",
       "      <td>The Tree Rio Bang-Aor Station (เดอะทรีริโอ้ บา...</td>\n",
       "      <td>Residential Building (Apartment / Condo)</td>\n",
       "      <td>13.800074</td>\n",
       "      <td>100.507650</td>\n",
       "      <td>4d954b06a243a5684965b473</td>\n",
       "    </tr>\n",
       "    <tr>\n",
       "      <th>1</th>\n",
       "      <td>Lumpini Place Rama 9-Ratchada (ลุมพินี เพลส พร...</td>\n",
       "      <td>Residential Building (Apartment / Condo)</td>\n",
       "      <td>13.757777</td>\n",
       "      <td>100.571531</td>\n",
       "      <td>4d954b06a243a5684965b473</td>\n",
       "    </tr>\n",
       "    <tr>\n",
       "      <th>2</th>\n",
       "      <td>Villa Asoke (วิลล่า อโศก)</td>\n",
       "      <td>Residential Building (Apartment / Condo)</td>\n",
       "      <td>13.749121</td>\n",
       "      <td>100.561880</td>\n",
       "      <td>4d954b06a243a5684965b473</td>\n",
       "    </tr>\n",
       "    <tr>\n",
       "      <th>3</th>\n",
       "      <td>noble ratchada</td>\n",
       "      <td>Residential Building (Apartment / Condo)</td>\n",
       "      <td>13.763941</td>\n",
       "      <td>100.569326</td>\n",
       "      <td>4d954b06a243a5684965b473</td>\n",
       "    </tr>\n",
       "    <tr>\n",
       "      <th>4</th>\n",
       "      <td>333 Riverside</td>\n",
       "      <td>Residential Building (Apartment / Condo)</td>\n",
       "      <td>13.807087</td>\n",
       "      <td>100.520187</td>\n",
       "      <td>4d954b06a243a5684965b473</td>\n",
       "    </tr>\n",
       "  </tbody>\n",
       "</table>\n",
       "</div>"
      ],
      "text/plain": [
       "                                                name  \\\n",
       "0  The Tree Rio Bang-Aor Station (เดอะทรีริโอ้ บา...   \n",
       "1  Lumpini Place Rama 9-Ratchada (ลุมพินี เพลส พร...   \n",
       "2                          Villa Asoke (วิลล่า อโศก)   \n",
       "3                                     noble ratchada   \n",
       "4                                      333 Riverside   \n",
       "\n",
       "                                 categories        lat         lng  \\\n",
       "0  Residential Building (Apartment / Condo)  13.800074  100.507650   \n",
       "1  Residential Building (Apartment / Condo)  13.757777  100.571531   \n",
       "2  Residential Building (Apartment / Condo)  13.749121  100.561880   \n",
       "3  Residential Building (Apartment / Condo)  13.763941  100.569326   \n",
       "4  Residential Building (Apartment / Condo)  13.807087  100.520187   \n",
       "\n",
       "               categoriesID  \n",
       "0  4d954b06a243a5684965b473  \n",
       "1  4d954b06a243a5684965b473  \n",
       "2  4d954b06a243a5684965b473  \n",
       "3  4d954b06a243a5684965b473  \n",
       "4  4d954b06a243a5684965b473  "
      ]
     },
     "execution_count": 24,
     "metadata": {},
     "output_type": "execute_result"
    }
   ],
   "source": [
    "condoDF = foundDF[foundDF['categoriesID']== condoCategoryID]\n",
    "condoDF.reset_index(drop=True, inplace=True)\n",
    "condoDF.head()"
   ]
  },
  {
   "cell_type": "markdown",
   "metadata": {},
   "source": [
    "<h3> Virtualize Condo Around Dusit District</h3>"
   ]
  },
  {
   "cell_type": "code",
   "execution_count": 25,
   "metadata": {},
   "outputs": [
    {
     "data": {
      "text/html": [
       "<div style=\"width:100%;\"><div style=\"position:relative;width:100%;height:0;padding-bottom:60%;\"><iframe src=\"data:text/html;charset=utf-8;base64,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\" style=\"position:absolute;width:100%;height:100%;left:0;top:0;border:none !important;\" allowfullscreen webkitallowfullscreen mozallowfullscreen></iframe></div></div>"
      ],
      "text/plain": [
       "<folium.folium.Map at 0x7fd993402a58>"
      ]
     },
     "execution_count": 25,
     "metadata": {},
     "output_type": "execute_result"
    }
   ],
   "source": [
    "# create map of Manhattan using latitude and longitude values\n",
    "neighborhoodMap = folium.Map(location=[neighborhoodLocation.latitude, neighborhoodLocation.longitude], zoom_start=11)\n",
    "\n",
    "# add markers to map\n",
    "for lat, lng, label in zip(condoDF['lat'], condoDF['lng'], condoDF['name']):\n",
    "    label = folium.Popup(label, parse_html=True)\n",
    "    folium.CircleMarker(\n",
    "        [lat, lng],\n",
    "        radius=5,\n",
    "        popup=label,\n",
    "        color='blue',\n",
    "        fill=True,\n",
    "        fill_color='#3186cc',\n",
    "        fill_opacity=0.7,\n",
    "        parse_html=False).add_to(neighborhoodMap)  \n",
    "    \n",
    "neighborhoodMap"
   ]
  },
  {
   "cell_type": "markdown",
   "metadata": {},
   "source": [
    "![img](https://github.com/newmint/Coursera_Capstone/blob/master/fig1.png \"img\")\n",
    "\n",
    "If image do not display, please click [here](https://github.com/newmint/Coursera_Capstone/blob/master/fig1.png)"
   ]
  },
  {
   "cell_type": "markdown",
   "metadata": {},
   "source": [
    "<h2>Explore venues around each Condo</h2>"
   ]
  },
  {
   "cell_type": "code",
   "execution_count": 26,
   "metadata": {},
   "outputs": [
    {
     "data": {
      "text/html": [
       "<div>\n",
       "<style scoped>\n",
       "    .dataframe tbody tr th:only-of-type {\n",
       "        vertical-align: middle;\n",
       "    }\n",
       "\n",
       "    .dataframe tbody tr th {\n",
       "        vertical-align: top;\n",
       "    }\n",
       "\n",
       "    .dataframe thead th {\n",
       "        text-align: right;\n",
       "    }\n",
       "</style>\n",
       "<table border=\"1\" class=\"dataframe\">\n",
       "  <thead>\n",
       "    <tr style=\"text-align: right;\">\n",
       "      <th></th>\n",
       "      <th>Neighborhood</th>\n",
       "      <th>Neighborhood Latitude</th>\n",
       "      <th>Neighborhood Longitude</th>\n",
       "      <th>Venue</th>\n",
       "      <th>Venue Latitude</th>\n",
       "      <th>Venue Longitude</th>\n",
       "      <th>Venue Category</th>\n",
       "      <th>Venue CategoryID</th>\n",
       "    </tr>\n",
       "  </thead>\n",
       "  <tbody>\n",
       "    <tr>\n",
       "      <th>0</th>\n",
       "      <td>The Tree Rio Bang-Aor Station (เดอะทรีริโอ้ บา...</td>\n",
       "      <td>13.800074</td>\n",
       "      <td>100.50765</td>\n",
       "      <td>Baan Bang Aor (บ้านบางอ้อ)</td>\n",
       "      <td>13.795761</td>\n",
       "      <td>100.507798</td>\n",
       "      <td>Café</td>\n",
       "      <td>4bf58dd8d48988d16d941735</td>\n",
       "    </tr>\n",
       "    <tr>\n",
       "      <th>1</th>\n",
       "      <td>The Tree Rio Bang-Aor Station (เดอะทรีริโอ้ บา...</td>\n",
       "      <td>13.800074</td>\n",
       "      <td>100.50765</td>\n",
       "      <td>Bang O Talae Phao (บางอ้อ ทะเลเผา)</td>\n",
       "      <td>13.797381</td>\n",
       "      <td>100.508562</td>\n",
       "      <td>Seafood Restaurant</td>\n",
       "      <td>4bf58dd8d48988d1ce941735</td>\n",
       "    </tr>\n",
       "    <tr>\n",
       "      <th>2</th>\n",
       "      <td>The Tree Rio Bang-Aor Station (เดอะทรีริโอ้ บา...</td>\n",
       "      <td>13.800074</td>\n",
       "      <td>100.50765</td>\n",
       "      <td>ตลาดนัด จรัญสนิทวงศ์ 95/1</td>\n",
       "      <td>13.803872</td>\n",
       "      <td>100.511289</td>\n",
       "      <td>Flea Market</td>\n",
       "      <td>4bf58dd8d48988d1f7941735</td>\n",
       "    </tr>\n",
       "    <tr>\n",
       "      <th>3</th>\n",
       "      <td>The Tree Rio Bang-Aor Station (เดอะทรีริโอ้ บา...</td>\n",
       "      <td>13.800074</td>\n",
       "      <td>100.50765</td>\n",
       "      <td>icecream cafe ณ บางกรวย</td>\n",
       "      <td>13.806224</td>\n",
       "      <td>100.502430</td>\n",
       "      <td>Ice Cream Shop</td>\n",
       "      <td>4bf58dd8d48988d1c9941735</td>\n",
       "    </tr>\n",
       "    <tr>\n",
       "      <th>4</th>\n",
       "      <td>The Tree Rio Bang-Aor Station (เดอะทรีริโอ้ บา...</td>\n",
       "      <td>13.800074</td>\n",
       "      <td>100.50765</td>\n",
       "      <td>KFC Drive-Thru (เคเอฟซี ไดร์ฟทรู)</td>\n",
       "      <td>13.794258</td>\n",
       "      <td>100.506616</td>\n",
       "      <td>Fried Chicken Joint</td>\n",
       "      <td>4d4ae6fc7a7b7dea34424761</td>\n",
       "    </tr>\n",
       "  </tbody>\n",
       "</table>\n",
       "</div>"
      ],
      "text/plain": [
       "                                        Neighborhood  Neighborhood Latitude  \\\n",
       "0  The Tree Rio Bang-Aor Station (เดอะทรีริโอ้ บา...              13.800074   \n",
       "1  The Tree Rio Bang-Aor Station (เดอะทรีริโอ้ บา...              13.800074   \n",
       "2  The Tree Rio Bang-Aor Station (เดอะทรีริโอ้ บา...              13.800074   \n",
       "3  The Tree Rio Bang-Aor Station (เดอะทรีริโอ้ บา...              13.800074   \n",
       "4  The Tree Rio Bang-Aor Station (เดอะทรีริโอ้ บา...              13.800074   \n",
       "\n",
       "   Neighborhood Longitude                               Venue  Venue Latitude  \\\n",
       "0               100.50765          Baan Bang Aor (บ้านบางอ้อ)       13.795761   \n",
       "1               100.50765  Bang O Talae Phao (บางอ้อ ทะเลเผา)       13.797381   \n",
       "2               100.50765           ตลาดนัด จรัญสนิทวงศ์ 95/1       13.803872   \n",
       "3               100.50765             icecream cafe ณ บางกรวย       13.806224   \n",
       "4               100.50765   KFC Drive-Thru (เคเอฟซี ไดร์ฟทรู)       13.794258   \n",
       "\n",
       "   Venue Longitude       Venue Category          Venue CategoryID  \n",
       "0       100.507798                 Café  4bf58dd8d48988d16d941735  \n",
       "1       100.508562   Seafood Restaurant  4bf58dd8d48988d1ce941735  \n",
       "2       100.511289          Flea Market  4bf58dd8d48988d1f7941735  \n",
       "3       100.502430       Ice Cream Shop  4bf58dd8d48988d1c9941735  \n",
       "4       100.506616  Fried Chicken Joint  4d4ae6fc7a7b7dea34424761  "
      ]
     },
     "execution_count": 26,
     "metadata": {},
     "output_type": "execute_result"
    }
   ],
   "source": [
    "condo_venues = getNearbyVenues(names=condoDF['name'], latitudes=condoDF['lat'], longitudes=condoDF['lng'], radius=1000)\n",
    "condo_venues.head()"
   ]
  },
  {
   "cell_type": "markdown",
   "metadata": {},
   "source": [
    "<h3> Analyze Each Neighborhood</h3>"
   ]
  },
  {
   "cell_type": "code",
   "execution_count": 27,
   "metadata": {},
   "outputs": [
    {
     "data": {
      "text/plain": [
       "(3566, 8)"
      ]
     },
     "execution_count": 27,
     "metadata": {},
     "output_type": "execute_result"
    }
   ],
   "source": [
    "condo_venues.shape"
   ]
  },
  {
   "cell_type": "markdown",
   "metadata": {},
   "source": [
    "we found 3566 venues near all condo in the list"
   ]
  },
  {
   "cell_type": "markdown",
   "metadata": {},
   "source": [
    "Check each condo is near main criteria"
   ]
  },
  {
   "cell_type": "code",
   "execution_count": 29,
   "metadata": {},
   "outputs": [
    {
     "data": {
      "text/plain": [
       "['The Address Chidlom',\n",
       " 'Pathumwan Resort (ปทุมวันรีสอร์ท)',\n",
       " 'Athenee Residence']"
      ]
     },
     "execution_count": 29,
     "metadata": {},
     "output_type": "execute_result"
    }
   ],
   "source": [
    "condoMeetMainCriteria = []\n",
    "\n",
    "for i,node in enumerate(condoDF['name']):\n",
    "    condoName = node\n",
    "    if(meetAllMainCriteria(set(condo_venues[condo_venues['Neighborhood']== condoName]['Venue CategoryID']))):\n",
    "        condoMeetMainCriteria.append(condoName)\n",
    "        \n",
    "condoMeetMainCriteria"
   ]
  },
  {
   "cell_type": "code",
   "execution_count": null,
   "metadata": {},
   "outputs": [],
   "source": []
  },
  {
   "cell_type": "markdown",
   "metadata": {},
   "source": [
    "Select only meet main criteria condo from list and remove catogries and categoriesID"
   ]
  },
  {
   "cell_type": "code",
   "execution_count": 30,
   "metadata": {},
   "outputs": [
    {
     "data": {
      "text/html": [
       "<div>\n",
       "<style scoped>\n",
       "    .dataframe tbody tr th:only-of-type {\n",
       "        vertical-align: middle;\n",
       "    }\n",
       "\n",
       "    .dataframe tbody tr th {\n",
       "        vertical-align: top;\n",
       "    }\n",
       "\n",
       "    .dataframe thead th {\n",
       "        text-align: right;\n",
       "    }\n",
       "</style>\n",
       "<table border=\"1\" class=\"dataframe\">\n",
       "  <thead>\n",
       "    <tr style=\"text-align: right;\">\n",
       "      <th></th>\n",
       "      <th>name</th>\n",
       "      <th>lat</th>\n",
       "      <th>lng</th>\n",
       "    </tr>\n",
       "  </thead>\n",
       "  <tbody>\n",
       "    <tr>\n",
       "      <th>0</th>\n",
       "      <td>The Address Chidlom</td>\n",
       "      <td>13.747803</td>\n",
       "      <td>100.545584</td>\n",
       "    </tr>\n",
       "    <tr>\n",
       "      <th>1</th>\n",
       "      <td>Pathumwan Resort (ปทุมวันรีสอร์ท)</td>\n",
       "      <td>13.754710</td>\n",
       "      <td>100.533998</td>\n",
       "    </tr>\n",
       "    <tr>\n",
       "      <th>2</th>\n",
       "      <td>Athenee Residence</td>\n",
       "      <td>13.741017</td>\n",
       "      <td>100.549427</td>\n",
       "    </tr>\n",
       "  </tbody>\n",
       "</table>\n",
       "</div>"
      ],
      "text/plain": [
       "                                name        lat         lng\n",
       "0                The Address Chidlom  13.747803  100.545584\n",
       "1  Pathumwan Resort (ปทุมวันรีสอร์ท)  13.754710  100.533998\n",
       "2                  Athenee Residence  13.741017  100.549427"
      ]
     },
     "execution_count": 30,
     "metadata": {},
     "output_type": "execute_result"
    }
   ],
   "source": [
    "matchDF = condoDF[condoDF['name'].isin(condoMeetMainCriteria)].drop(['categories','categoriesID'], axis=1)\n",
    "matchDF.reset_index(drop=True, inplace=True)\n",
    "matchDF"
   ]
  },
  {
   "cell_type": "code",
   "execution_count": null,
   "metadata": {},
   "outputs": [],
   "source": []
  },
  {
   "cell_type": "markdown",
   "metadata": {},
   "source": [
    "Check condo again about near extra criteria"
   ]
  },
  {
   "cell_type": "code",
   "execution_count": 31,
   "metadata": {},
   "outputs": [
    {
     "data": {
      "text/plain": [
       "[['Gym / Fitness Center'], ['Gym / Fitness Center'], ['Gym / Fitness Center']]"
      ]
     },
     "execution_count": 31,
     "metadata": {},
     "output_type": "execute_result"
    }
   ],
   "source": [
    "condoExtraCriteria = []\n",
    "for i,node in enumerate(matchDF['name']):\n",
    "    condoName = node\n",
    "    condoExtraCriteria.append(getListExtraCriteria(set(condo_venues[condo_venues['Neighborhood']== condoName]['Venue CategoryID'])))\n",
    "\n",
    "condoExtraCriteria"
   ]
  },
  {
   "cell_type": "code",
   "execution_count": null,
   "metadata": {},
   "outputs": [],
   "source": []
  },
  {
   "cell_type": "markdown",
   "metadata": {},
   "source": [
    "add the extraCriteria meet to each condo"
   ]
  },
  {
   "cell_type": "code",
   "execution_count": 32,
   "metadata": {},
   "outputs": [
    {
     "data": {
      "text/html": [
       "<div>\n",
       "<style scoped>\n",
       "    .dataframe tbody tr th:only-of-type {\n",
       "        vertical-align: middle;\n",
       "    }\n",
       "\n",
       "    .dataframe tbody tr th {\n",
       "        vertical-align: top;\n",
       "    }\n",
       "\n",
       "    .dataframe thead th {\n",
       "        text-align: right;\n",
       "    }\n",
       "</style>\n",
       "<table border=\"1\" class=\"dataframe\">\n",
       "  <thead>\n",
       "    <tr style=\"text-align: right;\">\n",
       "      <th></th>\n",
       "      <th>name</th>\n",
       "      <th>lat</th>\n",
       "      <th>lng</th>\n",
       "      <th>Extra Option</th>\n",
       "    </tr>\n",
       "  </thead>\n",
       "  <tbody>\n",
       "    <tr>\n",
       "      <th>0</th>\n",
       "      <td>The Address Chidlom</td>\n",
       "      <td>13.747803</td>\n",
       "      <td>100.545584</td>\n",
       "      <td>[Gym / Fitness Center]</td>\n",
       "    </tr>\n",
       "    <tr>\n",
       "      <th>1</th>\n",
       "      <td>Pathumwan Resort (ปทุมวันรีสอร์ท)</td>\n",
       "      <td>13.754710</td>\n",
       "      <td>100.533998</td>\n",
       "      <td>[Gym / Fitness Center]</td>\n",
       "    </tr>\n",
       "    <tr>\n",
       "      <th>2</th>\n",
       "      <td>Athenee Residence</td>\n",
       "      <td>13.741017</td>\n",
       "      <td>100.549427</td>\n",
       "      <td>[Gym / Fitness Center]</td>\n",
       "    </tr>\n",
       "  </tbody>\n",
       "</table>\n",
       "</div>"
      ],
      "text/plain": [
       "                                name        lat         lng  \\\n",
       "0                The Address Chidlom  13.747803  100.545584   \n",
       "1  Pathumwan Resort (ปทุมวันรีสอร์ท)  13.754710  100.533998   \n",
       "2                  Athenee Residence  13.741017  100.549427   \n",
       "\n",
       "             Extra Option  \n",
       "0  [Gym / Fitness Center]  \n",
       "1  [Gym / Fitness Center]  \n",
       "2  [Gym / Fitness Center]  "
      ]
     },
     "execution_count": 32,
     "metadata": {},
     "output_type": "execute_result"
    }
   ],
   "source": [
    "matchDF['Extra Option'] = condoExtraCriteria\n",
    "matchDF"
   ]
  },
  {
   "cell_type": "markdown",
   "metadata": {},
   "source": [
    "<h3> Virtualize Match Criteria Condo </h3> "
   ]
  },
  {
   "cell_type": "code",
   "execution_count": 33,
   "metadata": {},
   "outputs": [
    {
     "data": {
      "text/html": [
       "<div style=\"width:100%;\"><div style=\"position:relative;width:100%;height:0;padding-bottom:60%;\"><iframe src=\"data:text/html;charset=utf-8;base64,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\" style=\"position:absolute;width:100%;height:100%;left:0;top:0;border:none !important;\" allowfullscreen webkitallowfullscreen mozallowfullscreen></iframe></div></div>"
      ],
      "text/plain": [
       "<folium.folium.Map at 0x7fd991837908>"
      ]
     },
     "execution_count": 33,
     "metadata": {},
     "output_type": "execute_result"
    }
   ],
   "source": [
    "# create map of Manhattan using latitude and longitude values\n",
    "neighborhoodMap = folium.Map(location=[neighborhoodLocation.latitude, neighborhoodLocation.longitude], zoom_start=11)\n",
    "\n",
    "# add markers to map\n",
    "for lat, lng, label in zip(matchDF['lat'], matchDF['lng'], matchDF['name']):\n",
    "    label = folium.Popup(label, parse_html=True)\n",
    "    folium.CircleMarker(\n",
    "        [lat, lng],\n",
    "        radius=5,\n",
    "        popup=label,\n",
    "        color='blue',\n",
    "        fill=True,\n",
    "        fill_color='#3186cc',\n",
    "        fill_opacity=0.7,\n",
    "        parse_html=False).add_to(neighborhoodMap)  \n",
    "    \n",
    "neighborhoodMap"
   ]
  },
  {
   "cell_type": "markdown",
   "metadata": {},
   "source": [
    "![img](https://github.com/newmint/Coursera_Capstone/blob/master/fig2.png \"img\")\n",
    "\n",
    "If image do not display, please click [here](https://github.com/newmint/Coursera_Capstone/blob/master/fig2.png)"
   ]
  },
  {
   "cell_type": "markdown",
   "metadata": {},
   "source": [
    "<h2> Summary </h2>"
   ]
  },
  {
   "cell_type": "code",
   "execution_count": 34,
   "metadata": {},
   "outputs": [
    {
     "data": {
      "text/html": [
       "<div>\n",
       "<style scoped>\n",
       "    .dataframe tbody tr th:only-of-type {\n",
       "        vertical-align: middle;\n",
       "    }\n",
       "\n",
       "    .dataframe tbody tr th {\n",
       "        vertical-align: top;\n",
       "    }\n",
       "\n",
       "    .dataframe thead th {\n",
       "        text-align: right;\n",
       "    }\n",
       "</style>\n",
       "<table border=\"1\" class=\"dataframe\">\n",
       "  <thead>\n",
       "    <tr style=\"text-align: right;\">\n",
       "      <th></th>\n",
       "      <th>name</th>\n",
       "      <th>lat</th>\n",
       "      <th>lng</th>\n",
       "      <th>Extra Option</th>\n",
       "    </tr>\n",
       "  </thead>\n",
       "  <tbody>\n",
       "    <tr>\n",
       "      <th>0</th>\n",
       "      <td>The Address Chidlom</td>\n",
       "      <td>13.747803</td>\n",
       "      <td>100.545584</td>\n",
       "      <td>[Gym / Fitness Center]</td>\n",
       "    </tr>\n",
       "    <tr>\n",
       "      <th>1</th>\n",
       "      <td>Pathumwan Resort (ปทุมวันรีสอร์ท)</td>\n",
       "      <td>13.754710</td>\n",
       "      <td>100.533998</td>\n",
       "      <td>[Gym / Fitness Center]</td>\n",
       "    </tr>\n",
       "    <tr>\n",
       "      <th>2</th>\n",
       "      <td>Athenee Residence</td>\n",
       "      <td>13.741017</td>\n",
       "      <td>100.549427</td>\n",
       "      <td>[Gym / Fitness Center]</td>\n",
       "    </tr>\n",
       "  </tbody>\n",
       "</table>\n",
       "</div>"
      ],
      "text/plain": [
       "                                name        lat         lng  \\\n",
       "0                The Address Chidlom  13.747803  100.545584   \n",
       "1  Pathumwan Resort (ปทุมวันรีสอร์ท)  13.754710  100.533998   \n",
       "2                  Athenee Residence  13.741017  100.549427   \n",
       "\n",
       "             Extra Option  \n",
       "0  [Gym / Fitness Center]  \n",
       "1  [Gym / Fitness Center]  \n",
       "2  [Gym / Fitness Center]  "
      ]
     },
     "execution_count": 34,
     "metadata": {},
     "output_type": "execute_result"
    }
   ],
   "source": [
    "matchDF"
   ]
  },
  {
   "cell_type": "markdown",
   "metadata": {},
   "source": [
    "From the ***Result*** above tell we that\n",
    "\n",
    "They have 3 condo match with the main criteria (near ***Department Store*** and ***BTS(sky train)*** or ***MRT(subway)***)\n",
    "\n",
    "and all of them also near ***Fitness Center*** too."
   ]
  },
  {
   "cell_type": "code",
   "execution_count": null,
   "metadata": {},
   "outputs": [],
   "source": []
  }
 ],
 "metadata": {
  "kernelspec": {
   "display_name": "Python 3",
   "language": "python",
   "name": "python3"
  },
  "language_info": {
   "codemirror_mode": {
    "name": "ipython",
    "version": 3
   },
   "file_extension": ".py",
   "mimetype": "text/x-python",
   "name": "python",
   "nbconvert_exporter": "python",
   "pygments_lexer": "ipython3",
   "version": "3.6.5"
  }
 },
 "nbformat": 4,
 "nbformat_minor": 2
}
